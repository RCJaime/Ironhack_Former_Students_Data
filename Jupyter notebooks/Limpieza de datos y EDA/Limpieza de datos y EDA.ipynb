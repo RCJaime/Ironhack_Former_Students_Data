{
 "cells": [
  {
   "cell_type": "markdown",
   "id": "35cabb3a",
   "metadata": {},
   "source": [
    "### IMPORTS:"
   ]
  },
  {
   "cell_type": "code",
   "execution_count": null,
   "id": "c7d7706e",
   "metadata": {},
   "outputs": [],
   "source": [
    "from pymongo import MongoClient\n",
    "from datetime import datetime\n",
    "import pandas as pd\n",
    "import re\n",
    "import numpy as np\n",
    "import itertools as it\n",
    "import matplotlib.pyplot as plt\n",
    "from plotnine import *"
   ]
  },
  {
   "cell_type": "markdown",
   "id": "9631745e",
   "metadata": {},
   "source": [
    "### Conexión a MongoDB:"
   ]
  },
  {
   "cell_type": "code",
   "execution_count": null,
   "id": "e4ce17c8",
   "metadata": {},
   "outputs": [],
   "source": [
    "cliente = MongoClient('localhost', 27017)\n",
    "base_de_datos = cliente['scrap_link']\n",
    "collection = base_de_datos['scrap_perfiles']                     # colección donde guardamos los datos\n",
    "collection.create_index([(\"enlace\", pymongo.DESCENDING)]) "
   ]
  },
  {
   "cell_type": "markdown",
   "id": "8cf273e5",
   "metadata": {},
   "source": [
    "## EDUCACIÓN:"
   ]
  },
  {
   "cell_type": "markdown",
   "id": "2c427013",
   "metadata": {},
   "source": [
    "#### Query_1: Institucion = Ironhack;               cols. = nombre, institucion, fecha_inicio, fecha_fin"
   ]
  },
  {
   "cell_type": "code",
   "execution_count": null,
   "id": "0552fbd5",
   "metadata": {},
   "outputs": [],
   "source": [
    "# Query mediante Mongo db:\n",
    "\n",
    "query_1 =  {\n",
    "    \n",
    "    \"educación.educacion\": {                                   #accedemos a las tarjetas educación, a la key educacion(lista)\n",
    "        \"$elemMatch\":{                                         # elemento que coincida con: Ironhack\n",
    "            \"institucion\" : \"Ironhack\"\n",
    "            \n",
    "        }       \n",
    "    }\n",
    "}\n",
    "\n",
    "projection = {                                                  #datos que cojemos:\n",
    "                                                                #_id que empiece en 0, nombre sí, query sí\n",
    "    \"nombre\" : 1,\n",
    "    \"educación.educacion.$\": 1\n",
    "    \n",
    "}\n",
    "\n",
    "\n",
    "result_1 = collection.find (query_1, projection)\n",
    "\n",
    "data = []\n",
    "\n",
    "for r in result_1:\n",
    "    \n",
    "    nombre = r.get(\"nombre\")\n",
    "    ironhack = r.get(\"educación\", {}).get(\"educacion\", [{}])\n",
    "    for e in ironhack:\n",
    "        e[\"nombre\"] = nombre\n",
    "        data.append(e)\n",
    "df_educacion = pd.DataFrame(data)"
   ]
  },
  {
   "cell_type": "code",
   "execution_count": null,
   "id": "27d00a1e",
   "metadata": {},
   "outputs": [],
   "source": [
    "df_educacion.head()"
   ]
  },
  {
   "cell_type": "code",
   "execution_count": null,
   "id": "63d4cb2b",
   "metadata": {},
   "outputs": [],
   "source": [
    "df_educacion.info()"
   ]
  },
  {
   "cell_type": "markdown",
   "id": "20ccdfb7",
   "metadata": {},
   "source": [
    "### Trabajamos con los nulos:"
   ]
  },
  {
   "cell_type": "code",
   "execution_count": null,
   "id": "65fe5642",
   "metadata": {},
   "outputs": [],
   "source": [
    "# Rellenamos los datos nulos en una col. con los datos de la otra y viceversa:\n",
    "\n",
    "def date_null(df, cols):\n",
    "    \n",
    "    df[cols[0]].fillna(df[cols[1]], inplace=True)\n",
    "    df[cols[1]].fillna(df[cols[0]], inplace=True)\n",
    "\n",
    "date_null(df_educacion, ['fecha_inicio', 'fecha_fin'])"
   ]
  },
  {
   "cell_type": "code",
   "execution_count": null,
   "id": "b56d2d17",
   "metadata": {},
   "outputs": [],
   "source": [
    "#Resto de nulos:\n",
    "\n",
    "filas_nuls = df_educacion.isnull().any(axis = 1)\n",
    "df_educacion[filas_nuls]"
   ]
  },
  {
   "cell_type": "code",
   "execution_count": null,
   "id": "2961d95f",
   "metadata": {},
   "outputs": [],
   "source": [
    "# Nos quedan dos datos, los ventilamos porque no sirven para el anailis:\n",
    "df_educacion = df_educacion.dropna()\n",
    "df_educacion.info()"
   ]
  },
  {
   "cell_type": "markdown",
   "id": "617dd6af",
   "metadata": {},
   "source": [
    "### Trabajamos con la columna carrera:"
   ]
  },
  {
   "cell_type": "code",
   "execution_count": null,
   "id": "f7aec04a",
   "metadata": {},
   "outputs": [],
   "source": [
    "# Convertimos todo el texto a minus:\n",
    "df_educacion.carrera = df_educacion.carrera.str.lower()"
   ]
  },
  {
   "cell_type": "code",
   "execution_count": null,
   "id": "9e13035c",
   "metadata": {},
   "outputs": [],
   "source": [
    "# Creamos una funcion para crear una nueva columna: bootcamp, para saber que bootcamp han hecho:\n",
    "\n",
    "def bootcamp(value):\n",
    "    if \"web\" in value or \"front\" in value or \"stack\" in value or \"development\" in value:\n",
    "        return \"desarrollo web\"\n",
    "    elif \"data\" in value or \"dato\" in value:\n",
    "        return \"análisis de datos\"\n",
    "    elif \"ux/ui\" in value or \"ux\" in value or \"ui\" in value:\n",
    "        return \"diseño UX/UI\"\n",
    "    elif \"ciber\" in value or \"cyber\" in value:\n",
    "        return \"ciberseguridad\"\n",
    "    else:\n",
    "        return \"otro\"\n",
    "    \n",
    "        return value"
   ]
  },
  {
   "cell_type": "code",
   "execution_count": null,
   "id": "55eea5bc",
   "metadata": {},
   "outputs": [],
   "source": [
    "df_educacion[\"bootcamp\"] = df_educacion.carrera.apply(bootcamp)\n",
    "df_educacion.head()"
   ]
  },
  {
   "cell_type": "markdown",
   "id": "0fe05b19",
   "metadata": {},
   "source": [
    "### Trabajamos con las columnas de fecha:"
   ]
  },
  {
   "cell_type": "code",
   "execution_count": null,
   "id": "d6b7cd8f",
   "metadata": {},
   "outputs": [],
   "source": [
    "# Funciones para limpiar las fechas:\n",
    "\n",
    "def clean_date(fecha_str):\n",
    "    fecha_str.strip()\n",
    "    partes = fecha_str.split()\n",
    "    if len(partes) == 2:\n",
    "        mes = partes[0]\n",
    "        año = partes[1]\n",
    "        mes_num = {\n",
    "            'ene.': '01', 'feb.': '02', 'mar.': '03', 'abr.': '04',\n",
    "            'may.': '05', 'jun.': '06', 'jul.': '07', 'ago.': '08',\n",
    "            'sept.': '09', 'oct.': '10', 'nov.': '11', 'dic.': '12'\n",
    "        }\n",
    "        fecha_nueva = f\"{año}-{mes_num[mes]}\"\n",
    "        return (fecha_nueva)                                                            # Convertir a objeto datetime\n",
    "    else:\n",
    "        return fecha_str                                                                # Devolver solo el año como número entero\n",
    "    \n",
    "    \n",
    "def date_to_datetime(fecha):\n",
    "    \n",
    "    try:                                                                                # Intenta convertir a formato 'año-mes\n",
    "        fecha_convertida = pd.to_datetime(fecha, format='%Y-%m')#.date()     \n",
    "    except ValueError:\n",
    "        \n",
    "        try:                                                                            # Intenta convertir a formato 'año'                                                                                                                            # Intenta convertir a formato 'año'                                                                                        # Intenta convertir a formato 'año'\n",
    "            fecha_convertida = pd.to_datetime(fecha, format='%Y')#.date()\n",
    "            \n",
    "        except ValueError:\n",
    "                                                                                        # Si no coincide con ninguno de los formatos, mantener como NaN\n",
    "            fecha_convertida = None\n",
    "    \n",
    "    return fecha_convertida"
   ]
  },
  {
   "cell_type": "code",
   "execution_count": null,
   "id": "07716b17",
   "metadata": {},
   "outputs": [],
   "source": [
    "# Aplicar la función a las columnas 'fecha_inicio' y 'fecha_fin'\n",
    "\n",
    "df_educacion['fecha_inicio'] = df_educacion['fecha_inicio'].apply(clean_date)\n",
    "df_educacion['fecha_fin'] = df_educacion['fecha_fin'].apply(clean_date)"
   ]
  },
  {
   "cell_type": "code",
   "execution_count": null,
   "id": "8d12d45f",
   "metadata": {},
   "outputs": [],
   "source": [
    "df_educacion['fecha_inicio'] = df_educacion['fecha_inicio'].apply(date_to_datetime)\n",
    "df_educacion['fecha_fin'] = df_educacion['fecha_fin'].apply(date_to_datetime)\n",
    "df_educacion.head()"
   ]
  },
  {
   "cell_type": "code",
   "execution_count": null,
   "id": "ec13b1d1",
   "metadata": {},
   "outputs": [],
   "source": [
    "df_educacion.info()"
   ]
  },
  {
   "cell_type": "markdown",
   "id": "ba7926fa",
   "metadata": {},
   "source": [
    "### Ordenamos las columnas y quitamos la de institución , la de carrera y la de fecha de inicio:"
   ]
  },
  {
   "cell_type": "code",
   "execution_count": null,
   "id": "bd934855",
   "metadata": {},
   "outputs": [],
   "source": [
    "orden_col = [\"nombre\", \"bootcamp\", \"fecha_fin\"]\n",
    "df_educacion.drop(columns = [\"institucion\", \"carrera\"], axis = 1, inplace = True)\n",
    "df_educacion = df_educacion[orden_col]"
   ]
  },
  {
   "cell_type": "code",
   "execution_count": null,
   "id": "a1775fd2",
   "metadata": {},
   "outputs": [],
   "source": [
    "df_educacion.head()"
   ]
  },
  {
   "cell_type": "markdown",
   "id": "0fdf7655",
   "metadata": {},
   "source": [
    "## EXPERIENCIA"
   ]
  },
  {
   "cell_type": "markdown",
   "id": "6e800d1a",
   "metadata": {},
   "source": [
    "#### Query_2: experiencias_laborales"
   ]
  },
  {
   "cell_type": "code",
   "execution_count": null,
   "id": "2306d4f3",
   "metadata": {},
   "outputs": [],
   "source": [
    "# Query mediante python:\n",
    "\n",
    "def extract_data(document):\n",
    "    nombre = document.get(\"nombre\", \"\")\n",
    "    experiencias = document.get(\"experiencia_laboral\", {}).get(\"experiencias\", [])\n",
    "    data = []\n",
    "    for experiencia in experiencias:\n",
    "        nombre_empresa = experiencia.get(\"nombre_empresa\", \"\")\n",
    "        puestos = experiencia.get(\"puestos\", [])\n",
    "        for puesto in puestos:\n",
    "            fecha_inicio = puesto.get(\"fecha_inicio\", \"\")\n",
    "            ubicacion = puesto.get(\"ubicacion\", \"\")\n",
    "            nombre_puesto = puesto.get(\"nombre_puesto\", \"\")\n",
    "            data.append([nombre, nombre_empresa, fecha_inicio, ubicacion, nombre_puesto])\n",
    "    return data\n",
    "\n",
    "documents = collection.find({})                                                             # Obtener todos los documentos de la colección\n",
    "data = []\n",
    "\n",
    "for document in documents:\n",
    "    data.extend(extract_data(document))\n",
    "    \n",
    "\n",
    "df_trabajos = pd.DataFrame(data, columns=[\"nombre\", \"nombre_empresa\", \"fecha_inicio\", \"ubicacion\", \"nombre_puesto\"])"
   ]
  },
  {
   "cell_type": "code",
   "execution_count": null,
   "id": "024d99c0",
   "metadata": {},
   "outputs": [],
   "source": [
    "df_trabajos.head()"
   ]
  },
  {
   "cell_type": "code",
   "execution_count": null,
   "id": "2659ce7b",
   "metadata": {},
   "outputs": [],
   "source": [
    "df_trabajos.info()                                        #No hay nulos"
   ]
  },
  {
   "cell_type": "markdown",
   "id": "d1604d6d",
   "metadata": {},
   "source": [
    "### Trabajamos con las columnas de fecha:"
   ]
  },
  {
   "cell_type": "code",
   "execution_count": null,
   "id": "b0c35cbc",
   "metadata": {},
   "outputs": [],
   "source": [
    "# Algunas fechas tienen texto que no queremos:\n",
    "\n",
    "df_trabajos.fecha_inicio = df_trabajos.fecha_inicio.str.split(' · ').str[0]            #dividimos los valores string por el punto y nos quedamos la primera parte\n",
    "df_trabajos   "
   ]
  },
  {
   "cell_type": "code",
   "execution_count": null,
   "id": "a09865cb",
   "metadata": {},
   "outputs": [],
   "source": [
    "# Aplicar la funciones definidas antes a la columna 'fecha_inicio':\n",
    "\n",
    "df_trabajos['fecha_inicio'] = df_trabajos['fecha_inicio'].apply(clean_date)\n",
    "df_trabajos['fecha_inicio'] = df_trabajos['fecha_inicio'].apply(date_to_datetime)"
   ]
  },
  {
   "cell_type": "markdown",
   "id": "8ab80827",
   "metadata": {},
   "source": [
    "### Trabajamos con la columna nombres_empresa:"
   ]
  },
  {
   "cell_type": "code",
   "execution_count": null,
   "id": "42a989e7",
   "metadata": {},
   "outputs": [],
   "source": [
    "# Limpiamos los nombres:\n",
    "df_trabajos.nombre_empresa.unique().shape"
   ]
  },
  {
   "cell_type": "code",
   "execution_count": null,
   "id": "9dfee330",
   "metadata": {},
   "outputs": [],
   "source": [
    "# Eliminamos lo que no sea el nombre de la empresa y convertimos a minusculas:\n",
    "\n",
    "df_trabajos.nombre_empresa = df_trabajos.nombre_empresa.str.split(' · ').str[0].str.lower()\n",
    "df_trabajos.nombre_empresa.unique().shape"
   ]
  },
  {
   "cell_type": "code",
   "execution_count": null,
   "id": "e297e2b3",
   "metadata": {},
   "outputs": [],
   "source": [
    "# vamos a hacer algunos ajustes:\n",
    "palabras_clave = ['vodafone', 'santander', 'accenture', 'openbank', 'ironhack', 'deloitte', 'bbva','universidad rey juan carlos', 'amazon', 'inditex', 'ntt', 'ibm', 'kpmg' ]\n",
    "\n",
    "for palabra in palabras_clave:\n",
    "    df_trabajos['nombre_empresa'] = df_trabajos['nombre_empresa'].str.replace(rf'.*{palabra}.*',palabra.capitalize(), case=False, regex=True)\n",
    "\n",
    "df_trabajos.nombre_empresa.unique().shape    "
   ]
  },
  {
   "cell_type": "code",
   "execution_count": null,
   "id": "00a051e1",
   "metadata": {},
   "outputs": [],
   "source": [
    "# Comprobamos si hay algo más que limpiar, en las dos siguientes celdas:\n",
    "df_trabajos.nombre_empresa.unique()"
   ]
  },
  {
   "cell_type": "code",
   "execution_count": null,
   "id": "c1104dd9",
   "metadata": {},
   "outputs": [],
   "source": [
    "# Usado para limpiar los datos unicos de experiencias:\n",
    "#filas_busqueda = df_experiencias[df_experiencias['nombre_empresa'].str.contains('rellenar_empresa', case=False)]\n",
    "#filas_busqueda"
   ]
  },
  {
   "cell_type": "code",
   "execution_count": null,
   "id": "3fca06f4",
   "metadata": {},
   "outputs": [],
   "source": [
    "# Cambiamos el nombre de la col nombre_empresa por empresa:\n",
    "df_trabajos = df_trabajos.rename(columns={'nombre_empresa': 'empresa'})"
   ]
  },
  {
   "cell_type": "code",
   "execution_count": null,
   "id": "3065e6ab",
   "metadata": {},
   "outputs": [],
   "source": [
    "df_trabajos.info()"
   ]
  },
  {
   "cell_type": "code",
   "execution_count": null,
   "id": "b3d7c406",
   "metadata": {},
   "outputs": [],
   "source": [
    "# agrupamos freelance, autonomo y profesional independiente bajo el mismo nombre: freelance.\n",
    "df_trabajos['empresa'] = df_trabajos['empresa'].str.lower()\n",
    "\n",
    "df_trabajos['empresa'].replace(['autonomo', 'profesional independiente'], 'freelance', inplace=True)\n",
    "df_trabajo"
   ]
  },
  {
   "cell_type": "markdown",
   "id": "dd8da5a7",
   "metadata": {},
   "source": [
    "### Comprobamos que la persona ha estudiado en Ironhack y ha conseguido trabajo:"
   ]
  },
  {
   "cell_type": "code",
   "execution_count": null,
   "id": "1e6dbaa9",
   "metadata": {},
   "outputs": [],
   "source": [
    "# Sacamos los valores unicos de la columna nombre de df_educacion:\n",
    "nombres_educacion = df_educacion['nombre'].unique()\n"
   ]
  },
  {
   "cell_type": "code",
   "execution_count": null,
   "id": "2d90a740",
   "metadata": {},
   "outputs": [],
   "source": [
    "# Limpiamos el df_experiencias, para eliminar los datos de las personas que no hayan estudiado en Ironhack:\n",
    "df_experiencias = df_trabajos[df_trabajos.nombre.isin(nombres_educacion)]\n",
    "df_experiencias.shape"
   ]
  },
  {
   "cell_type": "code",
   "execution_count": null,
   "id": "130c9230",
   "metadata": {},
   "outputs": [],
   "source": [
    "df_experiencias.info()"
   ]
  },
  {
   "cell_type": "code",
   "execution_count": null,
   "id": "eab55575",
   "metadata": {},
   "outputs": [],
   "source": [
    "df_experiencias.head()"
   ]
  },
  {
   "cell_type": "markdown",
   "id": "383c460d",
   "metadata": {},
   "source": [
    "## Cruzamos los dataframes:"
   ]
  },
  {
   "cell_type": "code",
   "execution_count": null,
   "id": "a53c7bfc",
   "metadata": {},
   "outputs": [],
   "source": [
    "# Vamos a ffiltrar los dos dataframes\n",
    "dataframes_filtrados = []\n",
    "\n",
    "for nombre, grupo in df_experiencias.groupby('nombre'):\n",
    "    fecha_maxima_fin_educacion = df_educacion[df_educacion['nombre'] == nombre]['fecha_fin'].max()\n",
    "    grupo_filtrado = grupo[grupo['fecha_inicio'] >= fecha_maxima_fin_educacion]\n",
    "    dataframes_filtrados.append(grupo_filtrado)\n",
    "\n",
    "# Concatenar los DataFrames filtrados\n",
    "df_experiencias_despues_ironhack = pd.concat(dataframes_filtrados)"
   ]
  },
  {
   "cell_type": "code",
   "execution_count": null,
   "id": "758284e0",
   "metadata": {},
   "outputs": [],
   "source": [
    "df_experiencias_despues_ironhack.head()"
   ]
  },
  {
   "cell_type": "code",
   "execution_count": null,
   "id": "8dc14535",
   "metadata": {},
   "outputs": [],
   "source": [
    "#queremos añadir la columna bootcamp en este dataframe:\n",
    "df_experiencias_despues_ironhack = df_experiencias_despues_ironhack.merge(df_educacion[['nombre', 'bootcamp']], \n",
    "                                                                          on='nombre', how='left')\n",
    "df_experiencias_despues_ironhack.head()"
   ]
  },
  {
   "cell_type": "code",
   "execution_count": null,
   "id": "abeae1f2",
   "metadata": {},
   "outputs": [],
   "source": [
    "# ordenamos el dataframe por los valores de nombre(aunque no sea necesario) y los de fecha de inicio\n",
    "df_experiencias_despues_ironhack = df_experiencias_despues_ironhack.sort_values(['nombre', 'fecha_inicio']).reset_index()\n",
    "\n",
    "# Mantener solo las primeras filas para cada nombre (las que tienen las fechas más pequeñas)\n",
    "df_experiencias_filtrado = df_experiencias_despues_ironhack.groupby('nombre').first().reset_index()"
   ]
  },
  {
   "cell_type": "code",
   "execution_count": null,
   "id": "05e840dc",
   "metadata": {},
   "outputs": [],
   "source": [
    "df_experiencias_filtrado.shape"
   ]
  },
  {
   "cell_type": "code",
   "execution_count": null,
   "id": "aef29db1",
   "metadata": {},
   "outputs": [],
   "source": [
    "# Limpiamos el df_educacion para solo tener personas que hayan encontrado trabajo\n",
    "\n",
    "nombres_experiencias_filtrado = df_experiencias_filtrado['nombre'].unique()\n",
    "\n",
    "df_educacion_con_trabajo = df_educacion[df_educacion.nombre.isin(nombres_experiencias_filtrado)]\n",
    "df_educacion_con_trabajo.shape"
   ]
  },
  {
   "cell_type": "code",
   "execution_count": null,
   "id": "b43a9812",
   "metadata": {},
   "outputs": [],
   "source": [
    "df_educacion_con_trabajo.head()"
   ]
  },
  {
   "cell_type": "code",
   "execution_count": null,
   "id": "133e1e22",
   "metadata": {},
   "outputs": [],
   "source": [
    "df_educacion_con_trabajo = df_educacion_con_trabajo.drop_duplicates()"
   ]
  },
  {
   "cell_type": "code",
   "execution_count": null,
   "id": "98dbe11d",
   "metadata": {},
   "outputs": [],
   "source": [
    "# Creamos un dataframe con las columnas combinadas de df_educacion y df_experiencias_filtrado:\n",
    "df_final = df_experiencias_filtrado.merge(df_educacion_con_trabajo, on='nombre', how='inner')"
   ]
  },
  {
   "cell_type": "code",
   "execution_count": null,
   "id": "961c1c8a",
   "metadata": {},
   "outputs": [],
   "source": [
    "df_final.head()"
   ]
  },
  {
   "cell_type": "code",
   "execution_count": null,
   "id": "a213e4e8",
   "metadata": {},
   "outputs": [],
   "source": [
    "df_final.shape"
   ]
  },
  {
   "cell_type": "code",
   "execution_count": null,
   "id": "234407d2",
   "metadata": {},
   "outputs": [],
   "source": [
    "# Tenemos una columna duplicada:\n",
    "\n",
    "df_final = df_final.drop(['bootcamp_y'], axis =1)\n",
    "\n",
    "df_final = df_final.rename(columns={'bootcamp_x': 'bootcamp'})\n",
    "df_final"
   ]
  },
  {
   "cell_type": "code",
   "execution_count": null,
   "id": "6c6fc742",
   "metadata": {},
   "outputs": [],
   "source": [
    "# Ordenamos las columnas:\n",
    "orden_col = [\"nombre\", \"bootcamp\", \"fecha_fin\", \"empresa\", \"nombre_puesto\", \"fecha_inicio\"]\n",
    "df_final = df_final[orden_col]\n",
    "df_final"
   ]
  },
  {
   "cell_type": "markdown",
   "id": "f719c749",
   "metadata": {},
   "source": [
    "### Dataframe final y EDA:"
   ]
  },
  {
   "cell_type": "markdown",
   "id": "7cb43169",
   "metadata": {},
   "source": [
    "### Limpiamos la columna de nombre_empresa:"
   ]
  },
  {
   "cell_type": "code",
   "execution_count": null,
   "id": "94acffee",
   "metadata": {},
   "outputs": [],
   "source": [
    "df_final.empresa.unique()"
   ]
  },
  {
   "cell_type": "code",
   "execution_count": null,
   "id": "28039ff8",
   "metadata": {},
   "outputs": [],
   "source": [
    "df_final.empresa.unique().shape"
   ]
  },
  {
   "cell_type": "code",
   "execution_count": null,
   "id": "9a82973c",
   "metadata": {},
   "outputs": [],
   "source": [
    "#importante para ver agrupados los datos de bootcamp con el puesto para poder hacer una categorización después\n",
    "df_final[['bootcamp', 'nombre_puesto']].value_counts().nlargest(20)    "
   ]
  },
  {
   "cell_type": "code",
   "execution_count": null,
   "id": "c4526f15",
   "metadata": {},
   "outputs": [],
   "source": [
    "# Creamos una categorización a lo bruto. Next steps: categorización por cercanía de palabras:\n",
    "\n",
    "dict_postitions_to_category = {}\n",
    "\n",
    "for position in df_final['nombre_puesto'].unique():\n",
    "    if ('frontend' in position.lower()) or ('full stack' in position.lower()) or ('backend' in position.lower()) or ('front-end' in position.lower()) or ('full-stack' in position.lower()) or ('front end' in position.lower()) or ('developer' in position.lower()) or ('programador' in position.lower()) or ('desarrollador' in position.lower()):\n",
    "        dict_postitions_to_category[position] = 'Web Developer'\n",
    "    elif ('ux' in position.lower()) or ('design' in position.lower()) or ('diseñadora' in position.lower()) or ('ui' in position.lower()):\n",
    "        dict_postitions_to_category[position] = 'UX/UI design'\n",
    "    elif('data' in position.lower()) or ('datos' in position.lower() or 'analyst' in position.lower()):\n",
    "        dict_postitions_to_category[position] = 'Data'\n",
    "    else:\n",
    "        dict_postitions_to_category[position] = 'Other'\n",
    "\n",
    "# Creamos una nueva columna con la categoría creada arriba:\n",
    "df_final['categoria_puesto'] = (\n",
    "    df_final['nombre_puesto'].map(dict_postitions_to_category)\n",
    ")\n",
    "\n",
    "\n",
    "df_final[['bootcamp', 'categoria_puesto']].value_counts().nlargest(20)    #importante sergio\n"
   ]
  },
  {
   "cell_type": "code",
   "execution_count": null,
   "id": "091c5115",
   "metadata": {},
   "outputs": [],
   "source": [
    "# Para poder ver el bootcamp y el puesto:\n",
    "\n",
    "show_me = df_final.loc[\n",
    "    (df_final['bootcamp'] == 'análisis de datos')       # ir cambiando bootcamp y puesto para ver datos\n",
    "    & (df_final['categoria_puesto'] == 'Other')\n",
    "]\n",
    "show_me.head(25)"
   ]
  },
  {
   "cell_type": "code",
   "execution_count": null,
   "id": "18a12858",
   "metadata": {},
   "outputs": [],
   "source": [
    "#Análisis del tiempo que se tarda en conseguir trabajo:\n",
    "\n",
    "def compute_month_fin(x):\n",
    "    return pd.to_datetime(x['fecha_fin']).dt.month\n",
    "def compute_year_fin(x):\n",
    "    return pd.to_datetime(x['fecha_fin']).dt.year\n",
    "def compute_month(x):\n",
    "    return pd.to_datetime(x['fecha_inicio']).dt.month\n",
    "def compute_year(x):\n",
    "    return pd.to_datetime(x['fecha_inicio']).dt.year\n",
    "\n",
    "(\n",
    "        df_final\n",
    "        .assign(\n",
    "            mes_final=compute_month_fin,\n",
    "            año_final=compute_year_fin,\n",
    "            mes_inicio=compute_month,\n",
    "            año_inicio=compute_year\n",
    "            \n",
    "            \n",
    "        )\n",
    ")\n",
    "\n"
   ]
  },
  {
   "cell_type": "code",
   "execution_count": null,
   "id": "e55c61d2",
   "metadata": {},
   "outputs": [],
   "source": [
    "# Añadimos una columan al dataframe de tiempo en conseguir primer trabajo:\n",
    "df_final['diferencia_meses'] = (df_final['fecha_inicio'] - df_final['fecha_fin']) \n",
    "df_final"
   ]
  },
  {
   "cell_type": "code",
   "execution_count": null,
   "id": "8e0c7415",
   "metadata": {},
   "outputs": [],
   "source": [
    "# Eliminamos las filas cuyos valores de fecha sea enero para eliminar el seesgo linkedin:\n",
    "df_final_january_off = df_final[~((df_final['fecha_fin'].dt.month == 1)|(df_final['fecha_inicio'].dt.month == 1))]\n",
    "df_final_january_off"
   ]
  },
  {
   "cell_type": "code",
   "execution_count": null,
   "id": "1fb1eb11",
   "metadata": {},
   "outputs": [],
   "source": [
    "def asignar_tiempo_trabajo(diferencia_timedelta):\n",
    "    # Extraer el número de días de la diferencia Timedelta\n",
    "    diferencia_dias = diferencia_timedelta.days\n",
    "    \n",
    "    if diferencia_dias <= 90:\n",
    "        return \"Menos de 3 meses\"\n",
    "    elif 91 <= diferencia_dias <= 180:\n",
    "        return \"3-6 meses\"\n",
    "    elif 181 <= diferencia_dias < 365:\n",
    "        return \"6 meses - 1 año\"\n",
    "    else:\n",
    "        return \"Más de 1 año\"\n",
    "\n",
    "# Aplicar la función a la columna \"diferencia_meses\" para crear la columna \"tiempo_trabajo\"\n",
    "df_final_january_off['tiempo_trabajo'] = df_final_january_off['diferencia_meses'].apply(asignar_tiempo_trabajo)\n",
    "\n",
    "# Crear el gráfico de barras\n",
    "plt.figure(figsize=(8, 6))\n",
    "conteo_tiempo = df_final_january_off['tiempo_trabajo'].value_counts()\n",
    "conteo_tiempo.plot(kind='bar', color='skyblue')\n",
    "plt.title('Distribución de Tiempo de Trabajo')\n",
    "plt.xlabel('Tiempo de Trabajo')\n",
    "plt.ylabel('Número de Personas')\n",
    "plt.xticks(rotation=45)  # Rotar etiquetas en el eje x para mayor legibilidad\n",
    "plt.tight_layout()\n",
    "plt.show()"
   ]
  },
  {
   "cell_type": "code",
   "execution_count": null,
   "id": "3f6f3120",
   "metadata": {},
   "outputs": [],
   "source": [
    "porcentajes = df_final_january_off['tiempo_trabajo'].value_counts(normalize=True) * 100\n",
    "\n",
    "# Crear el gráfico de barras con porcentajes\n",
    "plt.figure(figsize=(8, 6))\n",
    "porcentajes.plot(kind='bar', color='skyblue')\n",
    "plt.title('Distribución de Tiempo de Trabajo en Porcentaje')\n",
    "plt.xlabel('Tiempo de Trabajo')\n",
    "plt.ylabel('Porcentaje')\n",
    "plt.xticks(rotation=45)\n",
    "\n",
    "# Agregar etiquetas de porcentaje en las barras\n",
    "for i, porcentaje in enumerate(porcentajes):\n",
    "    plt.text(i, porcentaje, f'{porcentaje:.2f}%', ha='center', va='bottom')\n",
    "\n",
    "plt.tight_layout()\n",
    "plt.show()"
   ]
  },
  {
   "cell_type": "code",
   "execution_count": null,
   "id": "dfab86f4",
   "metadata": {},
   "outputs": [],
   "source": [
    "df_final_january_off.head()"
   ]
  },
  {
   "cell_type": "code",
   "execution_count": null,
   "id": "17ace9b9",
   "metadata": {},
   "outputs": [],
   "source": [
    "filas_nuls = df_final_january_off.isnull().any(axis = 1)\n",
    "df_final_january_off[filas_nuls]"
   ]
  },
  {
   "cell_type": "code",
   "execution_count": null,
   "id": "fca73e6c",
   "metadata": {},
   "outputs": [],
   "source": [
    "df_to_plot = (\n",
    "    (\n",
    "        df_final\n",
    "        .assign(mes=lambda x: pd.to_datetime(df_final['fecha_fin']).dt.month)\n",
    "        .groupby(['bootcamp', 'mes', 'categoria_puesto'])\n",
    "        .size()\n",
    "        / df_final.assign(mes=lambda x: pd.to_datetime(df_final['fecha_fin']).dt.month).groupby(['bootcamp', 'mes']).size()\n",
    "    )\n",
    "    .reset_index(name='pct_users')\n",
    "    .assign(pct_users=lambda x: round(x['pct_users'] * 100, 2))\n",
    ")\n",
    "\n",
    "df_to_plot.sample(5)"
   ]
  },
  {
   "cell_type": "code",
   "execution_count": null,
   "id": "254fa312",
   "metadata": {},
   "outputs": [],
   "source": [
    "new_plot = list(\n",
    "    it.product(df_to_plot['bootcamp'].unique(),\n",
    "               df_to_plot['mes'].unique(),\n",
    "               df_to_plot['categoria_puesto'].unique())\n",
    ")\n",
    "\n",
    "df_new_plot = pd.DataFrame(\n",
    "    new_plot, columns=['bootcamp', 'mes', 'categoria_puesto']\n",
    ")\n",
    "\n",
    "df_to_plot_filled = (\n",
    "    df_new_plot\n",
    "    .merge(df_to_plot, on=['categoria_puesto', 'mes', 'bootcamp'], how='left')\n",
    "    .fillna(0)\n",
    ")\n",
    "\n",
    "df_plot_puestos = df_to_plot_filled.loc[lambda x: x['pct_users'] > 0]\n",
    "df_plot_puestos"
   ]
  },
  {
   "cell_type": "code",
   "execution_count": null,
   "id": "45cd3395",
   "metadata": {},
   "outputs": [],
   "source": [
    "show_me = df_to_plot.loc[df_to_plot.bootcamp == 'análisis de datos']\n",
    "show_me"
   ]
  },
  {
   "cell_type": "code",
   "execution_count": null,
   "id": "3c85f8c9",
   "metadata": {},
   "outputs": [],
   "source": [
    "bootcamp_with_interest = [\n",
    "    'análisis de datos', 'desarrollo web', 'diseño UX/UI'\n",
    "]\n",
    "\n",
    "(\n",
    "    ggplot(df_to_plot_filled[\n",
    "        df_to_plot_filled['bootcamp'].isin(bootcamp_with_interest)\n",
    "    ], aes(x='mes', y='pct_users', color='categoria_puesto', label='pct_users'))\n",
    "    + facet_wrap('bootcamp', ncol=1)\n",
    "    + geom_line()\n",
    "    + geom_text()\n",
    "    + scale_x_discrete(limits=range(1, 12 + 1))\n",
    "    + theme(figure_size=(14, 8))\n",
    ")"
   ]
  },
  {
   "cell_type": "code",
   "execution_count": null,
   "id": "c8c12142",
   "metadata": {},
   "outputs": [],
   "source": [
    "from plotnine import *\n",
    "\n",
    "\n",
    "df_to_plot = (\n",
    "    (\n",
    "        df_final\n",
    "        .assign(mes=lambda x: pd.to_datetime(df_final['fecha_fin']).dt.month)\n",
    "        .groupby(['bootcamp', 'mes', 'categoria_puesto'])\n",
    "        .size()\n",
    "    )\n",
    "    .reset_index(name='num_users')\n",
    ")\n",
    "\n",
    "df_to_plot.sample(5)"
   ]
  },
  {
   "cell_type": "code",
   "execution_count": null,
   "id": "f3afda0a",
   "metadata": {},
   "outputs": [],
   "source": [
    "new_plot = list(\n",
    "    it.product(df_to_plot['bootcamp'].unique(),\n",
    "               df_to_plot['mes'].unique(),\n",
    "               df_to_plot['categoria_puesto'].unique())\n",
    ")\n",
    "\n",
    "df_new_plot = pd.DataFrame(\n",
    "    new_plot, columns=['bootcamp', 'mes', 'categoria_puesto']\n",
    ")\n",
    "\n",
    "df_to_plot_filled = (\n",
    "    df_new_plot\n",
    "    .merge(df_to_plot, on=['categoria_puesto', 'mes', 'bootcamp'], how='left')\n",
    "    .fillna(0)\n",
    ")\n",
    "\n",
    "df_to_plot_filled.loc[lambda x: x['num_users'] > 0]"
   ]
  },
  {
   "cell_type": "code",
   "execution_count": null,
   "id": "44aa8960",
   "metadata": {},
   "outputs": [],
   "source": [
    "bootcamp_with_interest = [\n",
    "    'análisis de datos', 'desarrollo web', 'diseño UX/UI'\n",
    "]\n",
    "\n",
    "(\n",
    "    ggplot(df_to_plot_filled[\n",
    "        df_to_plot_filled['bootcamp'].isin(bootcamp_with_interest)\n",
    "    ], aes(x='mes', y='num_users', color='categoria_puesto', fill='categoria_puesto', label='num_users'))\n",
    "    + facet_wrap('bootcamp', ncol=1)\n",
    "    + geom_col(position='dodge2')\n",
    "    + geom_text()\n",
    "    + scale_x_discrete(limits=range(1, 12 + 1))\n",
    "    + theme(figure_size=(16, 10))\n",
    ")"
   ]
  },
  {
   "cell_type": "code",
   "execution_count": null,
   "id": "a687add4",
   "metadata": {},
   "outputs": [],
   "source": [
    "(\n",
    "        df_final\n",
    "        .groupby(['bootcamp', 'categoria_puesto'])\n",
    "        .size()\n",
    "    ).index"
   ]
  },
  {
   "cell_type": "code",
   "execution_count": null,
   "id": "2090b96f",
   "metadata": {},
   "outputs": [],
   "source": [
    "df_final.groupby('bootcamp').size().index"
   ]
  },
  {
   "cell_type": "code",
   "execution_count": null,
   "id": "1073e6bc",
   "metadata": {},
   "outputs": [],
   "source": [
    "df_pct_users_by_bootcamp_and_category_position = (\n",
    "    (\n",
    "        df_final\n",
    "        .groupby(['bootcamp', 'categoria_puesto'])\n",
    "        .size()\n",
    "        / df_final.groupby('bootcamp').size()\n",
    "    )\n",
    "    .reset_index(name='pct_users')\n",
    ")\n",
    "    \n",
    "(\n",
    "    df_pct_users_by_bootcamp_and_category_position\n",
    "    .style\n",
    "    .format('{:.2%}', subset='pct_users')\n",
    ")"
   ]
  },
  {
   "cell_type": "markdown",
   "id": "6429bf7d",
   "metadata": {},
   "source": [
    "#### Analizamos los teachers assistant de Ironhack:"
   ]
  },
  {
   "cell_type": "code",
   "execution_count": null,
   "id": "41b3322e",
   "metadata": {},
   "outputs": [],
   "source": [
    "filas_busqueda = df_final[df_final['empresa'].str.contains('ironhack', case=False)]\n",
    "filas_busqueda.nombre_puesto = filas_busqueda.nombre_puesto.astype(str)"
   ]
  },
  {
   "cell_type": "code",
   "execution_count": null,
   "id": "58f1cdc2",
   "metadata": {},
   "outputs": [],
   "source": [
    "valor_busqueda = 'assi'\n",
    "reemplazo = 'Teacher Assistant'\n",
    "\n",
    "# Aplicar la sustitución a la columna 'columna'\n",
    "filas_busqueda['nombre_puesto'] = filas_busqueda['nombre_puesto'].str.replace('.*' + valor_busqueda + '.*', \n",
    "                                                                              reemplazo, regex=True)"
   ]
  },
  {
   "cell_type": "code",
   "execution_count": null,
   "id": "68e762c0",
   "metadata": {},
   "outputs": [],
   "source": [
    "filas_busqueda['nombre_puesto'] = filas_busqueda['nombre_puesto'].str.lower()\n",
    "filas_busqueda"
   ]
  },
  {
   "cell_type": "code",
   "execution_count": null,
   "id": "b3f82034",
   "metadata": {},
   "outputs": [],
   "source": [
    "\n",
    "palabras_clave = ['assistant', 'asistente','ayudante']\n",
    "\n",
    "# Función que reemplazará los valores\n",
    "def reemplazar_si_contiene(valor):\n",
    "    for palabra in palabras_clave:\n",
    "        if palabra in valor:\n",
    "            return 'teacher assistant'\n",
    "    return valor\n",
    "\n",
    "# Aplicar la función a la columna 'nombre_puesto'\n",
    "filas_busqueda['nombre_puesto'] = filas_busqueda['nombre_puesto'].apply(reemplazar_si_contiene)"
   ]
  },
  {
   "cell_type": "code",
   "execution_count": null,
   "id": "8444a011",
   "metadata": {},
   "outputs": [],
   "source": [
    "ilas_busqueda.loc[filas_busqueda['nombre_puesto']== 'teacher assistant'].shape"
   ]
  },
  {
   "cell_type": "markdown",
   "id": "c55ef6cf",
   "metadata": {},
   "source": [
    "### Convert to csv:"
   ]
  },
  {
   "cell_type": "markdown",
   "id": "5a88a22a",
   "metadata": {},
   "source": [
    "### df_educacion:"
   ]
  },
  {
   "cell_type": "code",
   "execution_count": null,
   "id": "de431dd5",
   "metadata": {},
   "outputs": [],
   "source": [
    "df_educacion = df_educacion.drop(['nombre'], axis=1)\n",
    "df_educacion.to_csv(\"df_educacion.csv\", index=False)"
   ]
  },
  {
   "cell_type": "code",
   "execution_count": null,
   "id": "262349c4",
   "metadata": {},
   "outputs": [],
   "source": [
    "# quitamos los datos de enero\n",
    "df_educacion_no_january = df_educacion[df_educacion['fecha_fin'].dt.month != 1]\n",
    "df_educacion_no_january.head()"
   ]
  },
  {
   "cell_type": "code",
   "execution_count": null,
   "id": "382d69d0",
   "metadata": {},
   "outputs": [],
   "source": [
    "df_educacion_no_january.to_csv(\"df_educacion_no_january.csv\", index=False)"
   ]
  },
  {
   "cell_type": "markdown",
   "id": "67c55036",
   "metadata": {},
   "source": [
    "### df_experiencias: "
   ]
  },
  {
   "cell_type": "code",
   "execution_count": null,
   "id": "ba62c35d",
   "metadata": {},
   "outputs": [],
   "source": [
    "df_experiencias = df_experiencias.drop(['nombre'], axis =1)\n",
    "df_experiencias.head()"
   ]
  },
  {
   "cell_type": "code",
   "execution_count": null,
   "id": "620cdbe5",
   "metadata": {},
   "outputs": [],
   "source": [
    "df_experiencias.to_csv(\"df_experiencias.csv\", index = False)"
   ]
  },
  {
   "cell_type": "markdown",
   "id": "33864e4c",
   "metadata": {},
   "source": [
    "### df_final"
   ]
  },
  {
   "cell_type": "code",
   "execution_count": null,
   "id": "c148a10a",
   "metadata": {},
   "outputs": [],
   "source": [
    "df_final.to_csv(\"df_final.csv\", index = False)"
   ]
  },
  {
   "cell_type": "markdown",
   "id": "1371f1e3",
   "metadata": {},
   "source": [
    "### df_experiencias_despues_ironhack"
   ]
  },
  {
   "cell_type": "code",
   "execution_count": null,
   "id": "dab8a6aa",
   "metadata": {},
   "outputs": [],
   "source": [
    "df_experiencias_despues_ironhack = df_experiencias_despues_ironhack.drop(['nombre'], axis =1)\n",
    "df_experiencias_despues_ironhack.to_csv(\"df_experiencias_despues_ironhack.csv\", index = False)"
   ]
  },
  {
   "cell_type": "markdown",
   "id": "1c77312c",
   "metadata": {},
   "source": [
    "### df_experiencias_filtrado"
   ]
  },
  {
   "cell_type": "code",
   "execution_count": null,
   "id": "dce8a4b9",
   "metadata": {},
   "outputs": [],
   "source": [
    "df_experiencias_filtrado = df_experiencias_filtrado.drop(['nombre'], axis = 1)\n",
    "df_experiencias_filtrado = df_experiencias_filtrado.drop(['index'], axis = 1)\n",
    "df_experiencias_filtrado.head()"
   ]
  },
  {
   "cell_type": "code",
   "execution_count": null,
   "id": "6fc846c6",
   "metadata": {},
   "outputs": [],
   "source": [
    "df_experiencias_filtrado.to_csv(\"df_experiencias_filtrado.csv\", index = False)"
   ]
  }
 ],
 "metadata": {
  "kernelspec": {
   "display_name": "TrabajoFinal",
   "language": "python",
   "name": "trabajofinal"
  },
  "language_info": {
   "codemirror_mode": {
    "name": "ipython",
    "version": 3
   },
   "file_extension": ".py",
   "mimetype": "text/x-python",
   "name": "python",
   "nbconvert_exporter": "python",
   "pygments_lexer": "ipython3",
   "version": "3.10.12"
  }
 },
 "nbformat": 4,
 "nbformat_minor": 5
}
