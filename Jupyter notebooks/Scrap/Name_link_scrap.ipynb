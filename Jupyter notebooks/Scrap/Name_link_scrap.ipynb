{
 "cells": [
  {
   "cell_type": "markdown",
   "id": "5c31f7f4",
   "metadata": {},
   "source": [
    "### IMPORTS:"
   ]
  },
  {
   "cell_type": "code",
   "execution_count": null,
   "id": "a9695351",
   "metadata": {},
   "outputs": [],
   "source": [
    "# SELENIUM:\n",
    "from selenium import webdriver                                    #driver\n",
    "from selenium.webdriver.chrome.options import Options             #driver options\n",
    "from webdriver_manager.chrome import ChromeDriverManager          #driver manager\n",
    "from selenium.webdriver.common.by import By                       #for driver request\n",
    "from selenium.webdriver.support.ui import WebDriverWait           #for waiting time\n",
    "from selenium.webdriver.common.keys import Keys\n",
    "from selenium.webdriver.support import expected_conditions as EC  \n",
    "#condiciones predefinidas que se pueden usar con el objeto WebDriverWait \n",
    "#para esperar a que se cumplan ciertas condiciones antes de continuar\n",
    "\n",
    "# MONGODB:\n",
    "import pymongo\n",
    "from pymongo import MongoClient\n",
    "\n",
    "# PERSONAL INFO:\n",
    "from Passwords import password\n",
    "from Passwords import email\n",
    "\n"
   ]
  },
  {
   "cell_type": "markdown",
   "id": "f86339f0",
   "metadata": {},
   "source": [
    "### Conexión a MongoDB:"
   ]
  },
  {
   "cell_type": "code",
   "execution_count": null,
   "id": "d14d61b8",
   "metadata": {},
   "outputs": [],
   "source": [
    "cliente = MongoClient('localhost', 27017)\n",
    "base_de_datos = cliente['scrap_link']\n",
    "collection = base_de_datos['links_names']                     # colección donde guardamos los datos\n",
    "collection.create_index([(\"enlace\", pymongo.DESCENDING)]) "
   ]
  },
  {
   "cell_type": "markdown",
   "id": "18131206",
   "metadata": {},
   "source": [
    "### DRIVER CONECTION:"
   ]
  },
  {
   "cell_type": "code",
   "execution_count": null,
   "id": "7e366e19",
   "metadata": {},
   "outputs": [],
   "source": [
    "chrome_options = Options() \n",
    "ChromeDriverManager().install()                                       #install\n",
    "driver = webdriver.Chrome()                                           #initialization\n",
    "driver.get(\"https://www.linkedin.com/login\")"
   ]
  },
  {
   "cell_type": "markdown",
   "id": "c0971b8f",
   "metadata": {},
   "source": [
    "### LOGIN:"
   ]
  },
  {
   "cell_type": "code",
   "execution_count": null,
   "id": "69e74fd7",
   "metadata": {},
   "outputs": [],
   "source": [
    "def login(driver, email=None, password=None, cookie = None, timeout=10):\n",
    "    if cookie is not None:\n",
    "        return _login_with_cookie(driver, cookie)\n",
    "  \n",
    "    if not email or not password:\n",
    "        email, password = __prompt_email_password()\n",
    "  \n",
    "    driver.get(\"https://www.linkedin.com/login\")\n",
    "    element = WebDriverWait(driver, 10).until(EC.presence_of_element_located((By.ID, \"username\")))\n",
    "  \n",
    "    email_elem = driver.find_element(By.ID,\"username\")\n",
    "    email_elem.send_keys(email)\n",
    "  \n",
    "    password_elem = driver.find_element(By.ID,\"password\")\n",
    "    password_elem.send_keys(password)\n",
    "    password_elem.submit()\n",
    "  \n",
    "    element = WebDriverWait(driver, timeout).until(EC.presence_of_element_located((By.CLASS_NAME, c.VERIFY_LOGIN_ID)))"
   ]
  },
  {
   "cell_type": "code",
   "execution_count": null,
   "id": "1736724b",
   "metadata": {},
   "outputs": [],
   "source": [
    "email = \"email\"\n",
    "password = \"password\"\n",
    "login(driver, email, password )"
   ]
  },
  {
   "cell_type": "markdown",
   "id": "4a824c1f",
   "metadata": {},
   "source": [
    "### SCRAP NAME-LINK, ANTIGUOS ALUMNOS IRONHACK:"
   ]
  },
  {
   "cell_type": "code",
   "execution_count": null,
   "id": "8770d0b1",
   "metadata": {},
   "outputs": [],
   "source": [
    "# Función para hacer scroll hacia abajo\n",
    "\n",
    "def scroll_down():\n",
    "    driver.execute_script(\"window.scrollTo(0, document.body.scrollHeight);\")\n",
    "    # Esperar hasta que aparezca un elemento específico antes de continuar\n",
    "    WebDriverWait(driver, 10).until(\n",
    "        EC.presence_of_element_located((By.CLASS_NAME, \"app-aware-link.link-without-visited-state\"))\n",
    "    )"
   ]
  },
  {
   "cell_type": "code",
   "execution_count": null,
   "id": "0de29166",
   "metadata": {},
   "outputs": [],
   "source": [
    "# Función para sacar link-name:\n",
    "\n",
    "def scrap_links(url, collection):\n",
    "    \n",
    "    driver.get(url)\n",
    "\n",
    "    try:\n",
    "        while True:\n",
    "\n",
    "            link_elements = driver.find_elements(By.CLASS_NAME, \"app-aware-link.link-without-visited-state\")\n",
    "\n",
    "            for link_element in link_elements:\n",
    "                link = link_element.get_attribute(\"href\")\n",
    "                name = link_element.text.strip()\n",
    "\n",
    "\n",
    "                try:\n",
    "                     collection.update_one(\n",
    "                            {'enlace': link},            # Condición para buscar el documento existente por su enlace\n",
    "                            {'$set': {'nombre': name}},  # Actualiza el nombre si el documento existe o crea uno nuevo\n",
    "                            upsert=True)                 # Crea un nuevo documento si no se encuentra uno con la condición\n",
    "                        \n",
    "                except pymongo.errors.DuplicateKeyError as e:\n",
    "\n",
    "                    continue\n",
    "\n",
    "            scroll_down()\n",
    "\n",
    "    except KeyboardInterrupt:\n",
    "        pass"
   ]
  },
  {
   "cell_type": "code",
   "execution_count": null,
   "id": "7feb1eb2",
   "metadata": {},
   "outputs": [],
   "source": [
    "url = 'https://www.linkedin.com/school/ironhack/people/'"
   ]
  },
  {
   "cell_type": "code",
   "execution_count": null,
   "id": "6edcc80f",
   "metadata": {},
   "outputs": [],
   "source": [
    "scrap_links(url, collection)"
   ]
  }
 ],
 "metadata": {
  "kernelspec": {
   "display_name": "TrabajoFinal",
   "language": "python",
   "name": "trabajofinal"
  },
  "language_info": {
   "codemirror_mode": {
    "name": "ipython",
    "version": 3
   },
   "file_extension": ".py",
   "mimetype": "text/x-python",
   "name": "python",
   "nbconvert_exporter": "python",
   "pygments_lexer": "ipython3",
   "version": "3.10.12"
  }
 },
 "nbformat": 4,
 "nbformat_minor": 5
}
